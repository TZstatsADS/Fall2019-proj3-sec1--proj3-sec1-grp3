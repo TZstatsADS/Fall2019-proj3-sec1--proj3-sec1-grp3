{
 "cells": [
  {
   "cell_type": "code",
   "execution_count": 4,
   "metadata": {},
   "outputs": [],
   "source": [
    "import numpy as np\n",
    "import matplotlib.pyplot as plt\n",
    "import pandas as pd\n",
    "import sklearn\n",
    "import sys\n",
    "import os\n",
    "import scipy.io\n",
    "import re\n",
    "from sklearn.neighbors import KNeighborsClassifier\n",
    "from sklearn.model_selection import cross_validate\n",
    "from sklearn.decomposition import PCA\n",
    "from sklearn.svm import SVC\n",
    "from sklearn.ensemble import RandomForestClassifier,GradientBoostingClassifier\n",
    "from scipy.spatial.distance import pdist"
   ]
  },
  {
   "cell_type": "markdown",
   "metadata": {},
   "source": [
    "# Train Dataset"
   ]
  },
  {
   "cell_type": "code",
   "execution_count": 6,
   "metadata": {},
   "outputs": [],
   "source": [
    "mat = []\n",
    "dirname = \"../data/train_set/points\"\n",
    "for f in sorted(os.listdir(\"../data/train_set/points\")):\n",
    "    mat.append(scipy.io.loadmat(os.path.join(dirname,f)))\n",
    "\n",
    "label_file = pd.read_csv(\"../data/train_set/label.csv\")"
   ]
  },
  {
   "cell_type": "code",
   "execution_count": 7,
   "metadata": {},
   "outputs": [],
   "source": [
    "pattern = re.compile(r'face*')\n",
    "coords = [x[list(filter(pattern.match, x.keys()))[0]] for x in mat]"
   ]
  },
  {
   "cell_type": "code",
   "execution_count": 8,
   "metadata": {},
   "outputs": [],
   "source": [
    "feature_mat = np.array([pdist(x) for x in coords])\n",
    "reduced_feature_mat = PCA(n_components=500).fit_transform(feature_mat)\n",
    "label = np.asarray(label_file.loc[:, 'emotion_idx'])\n",
    "#dataset = np.concatenate((feature_mat, label[:,np.newaxis]), axis=1)"
   ]
  },
  {
   "cell_type": "markdown",
   "metadata": {},
   "source": [
    "# Cross-Validation to Tune Parameter"
   ]
  },
  {
   "cell_type": "markdown",
   "metadata": {},
   "source": [
    "x = list(range(40,110,10))\n",
    "y = []\n",
    "for k in range(40,110,10):\n",
    "    cvs = cross_validate(GradientBoostingClassifier(n_estimators=k,validation_fraction=0.2,\n",
    "                                               n_iter_no_change=5, tol=0.01), feature_mat, label, cv=3, scoring='accuracy')\n",
    "    print('run for n_estimators={}, '.format(k),'with accuracy {}'.format(cvs['test_score']))\n",
    "    y.append(np.mean(cvs['test_score']))\n",
    "    \n",
    "plt.plot(x,y)"
   ]
  },
  {
   "cell_type": "markdown",
   "metadata": {},
   "source": [
    "## Finally we decide use GBM with n_estimators=6 as our baseline model"
   ]
  },
  {
   "cell_type": "code",
   "execution_count": null,
   "metadata": {},
   "outputs": [],
   "source": [
    "gbm0 = GradientBoostingClassifier(n_estimators=60)\n",
    "gbm0.fit(feature_mat, label)"
   ]
  },
  {
   "cell_type": "markdown",
   "metadata": {},
   "source": [
    "### If the train process is too long, the fitted model can be accessed from our saved model"
   ]
  },
  {
   "cell_type": "code",
   "execution_count": 11,
   "metadata": {},
   "outputs": [],
   "source": [
    "import pickle\n",
    "with open('../doc/baseline_model.sav', 'rb') as f:\n",
    "    gbm0 = pickle.load(f)"
   ]
  },
  {
   "cell_type": "markdown",
   "metadata": {},
   "source": [
    "# Test Dataset"
   ]
  },
  {
   "cell_type": "code",
   "execution_count": 12,
   "metadata": {},
   "outputs": [],
   "source": [
    "mat = []\n",
    "dirname = \"../data/test_set/points\"\n",
    "for f in sorted(os.listdir(\"../data/test_set/points\")):\n",
    "    mat.append(scipy.io.loadmat(os.path.join(dirname,f)))"
   ]
  },
  {
   "cell_type": "code",
   "execution_count": 13,
   "metadata": {},
   "outputs": [],
   "source": [
    "pattern = re.compile(r'face*')\n",
    "coords = [x[list(filter(pattern.match, x.keys()))[0]] for x in mat]"
   ]
  },
  {
   "cell_type": "code",
   "execution_count": 14,
   "metadata": {},
   "outputs": [],
   "source": [
    "feature_mat_test = np.array([pdist(x) for x in coords])\n",
    "reduced_feature_mat = PCA(n_components=500).fit_transform(feature_mat_test)\n",
    "#label_test = np.asarray(label_file.loc[:, 'emotion_idx'])\n",
    "#dataset = np.concatenate((feature_mat, label[:,np.newaxis]), axis=1)"
   ]
  },
  {
   "cell_type": "code",
   "execution_count": 15,
   "metadata": {},
   "outputs": [
    {
     "data": {
      "text/plain": [
       "array([22,  7,  9, ...,  4, 14, 19])"
      ]
     },
     "execution_count": 15,
     "metadata": {},
     "output_type": "execute_result"
    }
   ],
   "source": [
    "pred=gbm0.predict(feature_mat_test)\n",
    "pred"
   ]
  },
  {
   "cell_type": "code",
   "execution_count": 19,
   "metadata": {},
   "outputs": [],
   "source": [
    "import pandas as pd\n",
    "data = pd.read_csv(\"../data/test_set/label_predictions.csv\")\n",
    "data[\"Baseline\"] = pred\n",
    "data.to_csv(\"../data/test_set/label_predictions.csv\")"
   ]
  },
  {
   "cell_type": "code",
   "execution_count": null,
   "metadata": {},
   "outputs": [],
   "source": []
  },
  {
   "cell_type": "code",
   "execution_count": null,
   "metadata": {},
   "outputs": [],
   "source": []
  }
 ],
 "metadata": {
  "kernelspec": {
   "display_name": "Python 3",
   "language": "python",
   "name": "python3"
  },
  "language_info": {
   "codemirror_mode": {
    "name": "ipython",
    "version": 3
   },
   "file_extension": ".py",
   "mimetype": "text/x-python",
   "name": "python",
   "nbconvert_exporter": "python",
   "pygments_lexer": "ipython3",
   "version": "3.7.3"
  }
 },
 "nbformat": 4,
 "nbformat_minor": 4
}
