{
  "nbformat": 4,
  "nbformat_minor": 0,
  "metadata": {
    "colab": {
      "name": "baseline_GBM.ipynb",
      "provenance": [],
      "collapsed_sections": []
    },
    "kernelspec": {
      "name": "python3",
      "display_name": "Python 3"
    },
    "accelerator": "GPU"
  },
  "cells": [
    {
      "cell_type": "code",
      "metadata": {
        "id": "bpJonbKkwTuU",
        "colab_type": "code",
        "colab": {
          "base_uri": "https://localhost:8080/",
          "height": 122
        },
        "outputId": "812edc65-df58-4024-e937-8790cecb7289"
      },
      "source": [
        "from google.colab import drive\n",
        "drive.mount('/content/drive')"
      ],
      "execution_count": 11,
      "outputs": [
        {
          "output_type": "stream",
          "text": [
            "Go to this URL in a browser: https://accounts.google.com/o/oauth2/auth?client_id=947318989803-6bn6qk8qdgf4n4g3pfee6491hc0brc4i.apps.googleusercontent.com&redirect_uri=urn%3Aietf%3Awg%3Aoauth%3A2.0%3Aoob&scope=email%20https%3A%2F%2Fwww.googleapis.com%2Fauth%2Fdocs.test%20https%3A%2F%2Fwww.googleapis.com%2Fauth%2Fdrive%20https%3A%2F%2Fwww.googleapis.com%2Fauth%2Fdrive.photos.readonly%20https%3A%2F%2Fwww.googleapis.com%2Fauth%2Fpeopleapi.readonly&response_type=code\n",
            "\n",
            "Enter your authorization code:\n",
            "··········\n",
            "Mounted at /content/drive\n"
          ],
          "name": "stdout"
        }
      ]
    },
    {
      "cell_type": "code",
      "metadata": {
        "id": "-jikmvuhwAGP",
        "colab_type": "code",
        "colab": {}
      },
      "source": [
        "import numpy as np\n",
        "import matplotlib.pyplot as plt\n",
        "import pandas as pd\n",
        "import sklearn\n",
        "import sys\n",
        "import os\n",
        "import scipy.io\n",
        "import re\n",
        "from sklearn.neighbors import KNeighborsClassifier\n",
        "from sklearn.model_selection import cross_validate\n",
        "from sklearn.decomposition import PCA\n",
        "from sklearn.svm import SVC\n",
        "from sklearn.ensemble import RandomForestClassifier,GradientBoostingClassifier\n",
        "from scipy.spatial.distance import pdist"
      ],
      "execution_count": 0,
      "outputs": []
    },
    {
      "cell_type": "code",
      "metadata": {
        "id": "Y5PO-5eHwKrC",
        "colab_type": "code",
        "colab": {
          "base_uri": "https://localhost:8080/",
          "height": 34
        },
        "outputId": "1a6a55cc-318e-4267-812f-d096dcaf1ed6"
      },
      "source": [
        "path = os.path.join(os.path.split(os.path.realpath('__file__'))[0])\n",
        "sys.path.append(path)\n",
        "path"
      ],
      "execution_count": 13,
      "outputs": [
        {
          "output_type": "execute_result",
          "data": {
            "text/plain": [
              "'/content'"
            ]
          },
          "metadata": {
            "tags": []
          },
          "execution_count": 13
        }
      ]
    },
    {
      "cell_type": "code",
      "metadata": {
        "id": "fnWYqAmIwp97",
        "colab_type": "code",
        "colab": {}
      },
      "source": [
        "mat = []\n",
        "dirname = \"/content/drive/My Drive/学习/学习资料/Semester 3/GR5243--applied data science/project3/train_set/points\"\n",
        "for f in sorted(os.listdir(\"/content/drive/My Drive/学习/学习资料/Semester 3/GR5243--applied data science/project3/train_set/points\")):\n",
        "    mat.append(scipy.io.loadmat(os.path.join(dirname,f)))\n",
        "\n",
        "label_file = pd.read_csv(\"/content/drive/My Drive/学习/学习资料/Semester 3/GR5243--applied data science/project3/train_set/label.csv\")"
      ],
      "execution_count": 0,
      "outputs": []
    },
    {
      "cell_type": "code",
      "metadata": {
        "id": "l-VarwoGw6tA",
        "colab_type": "code",
        "colab": {}
      },
      "source": [
        "pattern = re.compile(r'face*')\n",
        "coords = [x[list(filter(pattern.match, x.keys()))[0]] for x in mat]"
      ],
      "execution_count": 0,
      "outputs": []
    },
    {
      "cell_type": "code",
      "metadata": {
        "id": "pKVyog7Xw601",
        "colab_type": "code",
        "colab": {}
      },
      "source": [
        "feature_mat = np.array([pdist(x) for x in coords])\n",
        "reduced_feature_mat = PCA(n_components=500).fit_transform(feature_mat)\n",
        "label = np.asarray(label_file.loc[:, 'emotion_idx'])\n",
        "#dataset = np.concatenate((feature_mat, label[:,np.newaxis]), axis=1)"
      ],
      "execution_count": 0,
      "outputs": []
    },
    {
      "cell_type": "code",
      "metadata": {
        "id": "uQrYahwcdH4s",
        "colab_type": "code",
        "colab": {}
      },
      "source": [
        "# KNN"
      ],
      "execution_count": 0,
      "outputs": []
    },
    {
      "cell_type": "code",
      "metadata": {
        "id": "vYhQf_SldKSd",
        "colab_type": "code",
        "colab": {
          "base_uri": "https://localhost:8080/",
          "height": 102
        },
        "outputId": "3d5f2f3a-b81e-402e-d781-a099f0ba3df7"
      },
      "source": [
        "x = list(range(10,51,10))\n",
        "y_knn = []\n",
        "for k in range(10,51,10):\n",
        "    cvs = cross_validate(RandomForestClassifier(k), feature_mat, label, cv=5, scoring='accuracy')\n",
        "    print('run for k={}, '.format(k),'with accuracy {}'.format(cvs['test_score']))\n",
        "    y_knn.append(np.mean(cvs['test_score']))"
      ],
      "execution_count": 11,
      "outputs": [
        {
          "output_type": "stream",
          "text": [
            "run for k=10,  with accuracy [0.34055118 0.39130435 0.35470942 0.23790323 0.23217923]\n",
            "run for k=20,  with accuracy [0.39566929 0.40909091 0.33867735 0.27822581 0.2586558 ]\n",
            "run for k=30,  with accuracy [0.38976378 0.42490119 0.38076152 0.28629032 0.29124236]\n",
            "run for k=40,  with accuracy [0.45866142 0.44664032 0.39078156 0.29032258 0.27494908]\n",
            "run for k=50,  with accuracy [0.45866142 0.46640316 0.41282565 0.30040323 0.30346232]\n"
          ],
          "name": "stdout"
        }
      ]
    },
    {
      "cell_type": "code",
      "metadata": {
        "id": "BVkCD-T5h923",
        "colab_type": "code",
        "colab": {}
      },
      "source": [
        "plt.plot(x, y)"
      ],
      "execution_count": 0,
      "outputs": []
    },
    {
      "cell_type": "code",
      "metadata": {
        "id": "AW8Z9G6KiGJw",
        "colab_type": "code",
        "colab": {}
      },
      "source": [
        "# Random Forest"
      ],
      "execution_count": 0,
      "outputs": []
    },
    {
      "cell_type": "code",
      "metadata": {
        "id": "ufnjVhvziGNs",
        "colab_type": "code",
        "colab": {}
      },
      "source": [
        "x = list(range(10,51,10))\n",
        "y = []\n",
        "for k in range(10,51,10):\n",
        "    cvs = cross_validate(RandomForestClassifier(k), feature_mat, label, cv=5, scoring='accuracy')\n",
        "    print('run for k={}, '.format(k),'with accuracy {}'.format(cvs['test_score']))\n",
        "    y.append(np.mean(cvs['test_score']))"
      ],
      "execution_count": 0,
      "outputs": []
    },
    {
      "cell_type": "code",
      "metadata": {
        "id": "N2_Pk7tgiGR1",
        "colab_type": "code",
        "colab": {}
      },
      "source": [
        "plt.plot(x, y)"
      ],
      "execution_count": 0,
      "outputs": []
    },
    {
      "cell_type": "code",
      "metadata": {
        "id": "96JzuI8IfLun",
        "colab_type": "code",
        "colab": {}
      },
      "source": [
        "# GBM"
      ],
      "execution_count": 0,
      "outputs": []
    },
    {
      "cell_type": "code",
      "metadata": {
        "id": "m944lESVw63b",
        "colab_type": "code",
        "colab": {
          "base_uri": "https://localhost:8080/",
          "height": 68
        },
        "outputId": "81252122-7519-472f-b960-1b2f51ec34b0"
      },
      "source": [
        "x = list(range(10,51,10))\n",
        "y_gbm = []\n",
        "for k in range(60,130,10):\n",
        "    cvs = cross_validate(GradientBoostingClassifier(n_estimators=k,validation_fraction=0.2,\n",
        "                                               n_iter_no_change=5, tol=0.01), feature_mat, label, cv=3, scoring='accuracy')\n",
        "    print('run for n_estimators={}, '.format(k),'with accuracy {}'.format(cvs['test_score']))\n",
        "    y_gbm.append(np.mean(cvs['test_score']))"
      ],
      "execution_count": 13,
      "outputs": [
        {
          "output_type": "stream",
          "text": [
            "run for n_estimators=80,  with accuracy [0.38168847 0.37454982 0.19854722]\n",
            "run for n_estimators=90,  with accuracy [0.40071344 0.35054022 0.21912833]\n",
            "run for n_estimators=100,  with accuracy [0.40665874 0.35894358 0.18644068]\n"
          ],
          "name": "stdout"
        }
      ]
    },
    {
      "cell_type": "code",
      "metadata": {
        "id": "fFkKEcoj7avp",
        "colab_type": "code",
        "colab": {
          "base_uri": "https://localhost:8080/",
          "height": 51
        },
        "outputId": "7e63cbd5-f175-4099-fe55-b4b42048abfb"
      },
      "source": [
        "x = list(range(60,101,10))\n",
        "y_gbm = []\n",
        "for k in range(60,130,10):\n",
        "    cvs = cross_validate(GradientBoostingClassifier(n_estimators=k,validation_fraction=0.2,\n",
        "                                               n_iter_no_change=5, tol=0.01), feature_mat, label, cv=3, scoring='accuracy')\n",
        "    print('run for n_estimators={}, '.format(k),'with accuracy {}'.format(cvs['test_score']))\n",
        "    y_gbm.append(np.mean(cvs['test_score']))"
      ],
      "execution_count": 0,
      "outputs": [
        {
          "output_type": "stream",
          "text": [
            "run for n_estimators=60,  with accuracy [0.40071344 0.36854742 0.2094431 ]\n",
            "run for n_estimators=70,  with accuracy [0.38168847 0.36734694 0.21186441]\n"
          ],
          "name": "stdout"
        }
      ]
    },
    {
      "cell_type": "code",
      "metadata": {
        "id": "z7Tb1yxujwG9",
        "colab_type": "code",
        "colab": {
          "base_uri": "https://localhost:8080/",
          "height": 252
        },
        "outputId": "b2d5686c-d575-472f-ea91-ef28dc34be1f"
      },
      "source": [
        "x = list(range(60,101,10))\n",
        "y_gbm = []\n",
        "for k in range(40,60,10):\n",
        "    cvs = cross_validate(GradientBoostingClassifier(n_estimators=k,validation_fraction=0.2,\n",
        "                                               n_iter_no_change=5, tol=0.01), feature_mat, label, cv=3, scoring='accuracy')\n",
        "    print('run for n_estimators={}, '.format(k),'with accuracy {}'.format(cvs['test_score']))\n",
        "    y_gbm.append(np.mean(cvs['test_score']))"
      ],
      "execution_count": 10,
      "outputs": [
        {
          "output_type": "error",
          "ename": "NameError",
          "evalue": "ignored",
          "traceback": [
            "\u001b[0;31m---------------------------------------------------------------------------\u001b[0m",
            "\u001b[0;31mNameError\u001b[0m                                 Traceback (most recent call last)",
            "\u001b[0;32m<ipython-input-10-e5ae81989c85>\u001b[0m in \u001b[0;36m<module>\u001b[0;34m()\u001b[0m\n\u001b[1;32m      3\u001b[0m \u001b[0;32mfor\u001b[0m \u001b[0mk\u001b[0m \u001b[0;32min\u001b[0m \u001b[0mrange\u001b[0m\u001b[0;34m(\u001b[0m\u001b[0;36m40\u001b[0m\u001b[0;34m,\u001b[0m\u001b[0;36m60\u001b[0m\u001b[0;34m,\u001b[0m\u001b[0;36m10\u001b[0m\u001b[0;34m)\u001b[0m\u001b[0;34m:\u001b[0m\u001b[0;34m\u001b[0m\u001b[0;34m\u001b[0m\u001b[0m\n\u001b[1;32m      4\u001b[0m     cvs = cross_validate(GradientBoostingClassifier(n_estimators=k,validation_fraction=0.2,\n\u001b[0;32m----> 5\u001b[0;31m                                                n_iter_no_change=5, tol=0.01), feature_mat, label, cv=3, scoring='accuracy')\n\u001b[0m\u001b[1;32m      6\u001b[0m     \u001b[0mprint\u001b[0m\u001b[0;34m(\u001b[0m\u001b[0;34m'run for n_estimators={}, '\u001b[0m\u001b[0;34m.\u001b[0m\u001b[0mformat\u001b[0m\u001b[0;34m(\u001b[0m\u001b[0mk\u001b[0m\u001b[0;34m)\u001b[0m\u001b[0;34m,\u001b[0m\u001b[0;34m'with accuracy {}'\u001b[0m\u001b[0;34m.\u001b[0m\u001b[0mformat\u001b[0m\u001b[0;34m(\u001b[0m\u001b[0mcvs\u001b[0m\u001b[0;34m[\u001b[0m\u001b[0;34m'test_score'\u001b[0m\u001b[0;34m]\u001b[0m\u001b[0;34m)\u001b[0m\u001b[0;34m)\u001b[0m\u001b[0;34m\u001b[0m\u001b[0;34m\u001b[0m\u001b[0m\n\u001b[1;32m      7\u001b[0m     \u001b[0my_gbm\u001b[0m\u001b[0;34m.\u001b[0m\u001b[0mappend\u001b[0m\u001b[0;34m(\u001b[0m\u001b[0mnp\u001b[0m\u001b[0;34m.\u001b[0m\u001b[0mmean\u001b[0m\u001b[0;34m(\u001b[0m\u001b[0mcvs\u001b[0m\u001b[0;34m[\u001b[0m\u001b[0;34m'test_score'\u001b[0m\u001b[0;34m]\u001b[0m\u001b[0;34m)\u001b[0m\u001b[0;34m)\u001b[0m\u001b[0;34m\u001b[0m\u001b[0;34m\u001b[0m\u001b[0m\n",
            "\u001b[0;31mNameError\u001b[0m: name 'feature_mat' is not defined"
          ]
        }
      ]
    },
    {
      "cell_type": "code",
      "metadata": {
        "id": "7xejBje4es1M",
        "colab_type": "code",
        "colab": {
          "base_uri": "https://localhost:8080/",
          "height": 282
        },
        "outputId": "6b7cea55-1455-4ce9-9161-00dce9e8d8a4"
      },
      "source": [
        "x = list(range(60,101,10))\n",
        "n60=[0.40071344,0.36854742,0.2094431]\n",
        "n70=[0.38168847,0.36734694,0.21186441]\n",
        "n80=[0.38168847,0.37454982,0.19854722]\n",
        "n90=[0.40071344,0.35054022,0.21912833]\n",
        "n100=[0.40665874,0.35894358,0.18644068]\n",
        "y=[np.mean(n60),np.mean(n70),np.mean(n80),np.mean(n90),np.mean(n100)]\n",
        "plt.plot(x,y)\n",
        "\n"
      ],
      "execution_count": 8,
      "outputs": [
        {
          "output_type": "execute_result",
          "data": {
            "text/plain": [
              "[<matplotlib.lines.Line2D at 0x7fb74d226978>]"
            ]
          },
          "metadata": {
            "tags": []
          },
          "execution_count": 8
        },
        {
          "output_type": "display_data",
          "data": {
            "image/png": "[encoded data removed]",
            "text/plain": [
              "<Figure size 432x288 with 1 Axes>"
            ]
          },
          "metadata": {
            "tags": []
          }
        }
      ]
    },
    {
      "cell_type": "code",
      "metadata": {
        "id": "a6j94DpOjsZS",
        "colab_type": "code",
        "colab": {
          "base_uri": "https://localhost:8080/",
          "height": 34
        },
        "outputId": "859228ab-e4e7-41e9-a095-b5387b83bedd"
      },
      "source": [
        "np.mean(n90)"
      ],
      "execution_count": 9,
      "outputs": [
        {
          "output_type": "execute_result",
          "data": {
            "text/plain": [
              "0.3234606633333333"
            ]
          },
          "metadata": {
            "tags": []
          },
          "execution_count": 9
        }
      ]
    }
  ]
}