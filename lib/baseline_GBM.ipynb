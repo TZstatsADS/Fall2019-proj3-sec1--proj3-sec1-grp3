{
 "cells": [
  {
   "cell_type": "code",
   "execution_count": 18,
   "metadata": {
    "colab": {
     "base_uri": "https://localhost:8080/",
     "height": 34
    },
    "colab_type": "code",
    "id": "bpJonbKkwTuU",
    "outputId": "7cae632a-cbfc-4bfa-a182-bde5813739a4"
   },
   "outputs": [
    {
     "name": "stdout",
     "output_type": "stream",
     "text": [
      "Mounted at /content/drive\n"
     ]
    }
   ],
   "source": [
    "from google.colab import drive\n",
    "drive.mount('/content/drive')"
   ]
  },
  {
   "cell_type": "code",
   "execution_count": null,
   "metadata": {
    "colab": {},
    "colab_type": "code",
    "id": "-jikmvuhwAGP"
   },
   "outputs": [],
   "source": [
    "import numpy as np\n",
    "import matplotlib.pyplot as plt\n",
    "import pandas as pd\n",
    "import sklearn\n",
    "import sys\n",
    "import os\n",
    "import scipy.io\n",
    "import re\n",
    "from sklearn.neighbors import KNeighborsClassifier\n",
    "from sklearn.model_selection import cross_validate\n",
    "from sklearn.decomposition import PCA\n",
    "from sklearn.svm import SVC\n",
    "from sklearn.ensemble import RandomForestClassifier,GradientBoostingClassifier\n",
    "from scipy.spatial.distance import pdist"
   ]
  },
  {
   "cell_type": "code",
   "execution_count": 20,
   "metadata": {
    "colab": {
     "base_uri": "https://localhost:8080/",
     "height": 34
    },
    "colab_type": "code",
    "id": "Y5PO-5eHwKrC",
    "outputId": "23a29161-4f5e-488e-a884-a64d02a5cd08"
   },
   "outputs": [
    {
     "data": {
      "text/plain": [
       "'/content'"
      ]
     },
     "execution_count": 20,
     "metadata": {
      "tags": []
     },
     "output_type": "execute_result"
    }
   ],
   "source": [
    "path = os.path.join(os.path.split(os.path.realpath('__file__'))[0])\n",
    "sys.path.append(path)\n",
    "path"
   ]
  },
  {
   "cell_type": "code",
   "execution_count": null,
   "metadata": {
    "colab": {},
    "colab_type": "code",
    "id": "fnWYqAmIwp97"
   },
   "outputs": [],
   "source": [
    "mat = []\n",
    "dirname = \"/content/drive/My Drive/学习/学习资料/Semester 3/GR5243--applied data science/project3/train_set/points\"\n",
    "for f in sorted(os.listdir(\"/content/drive/My Drive/学习/学习资料/Semester 3/GR5243--applied data science/project3/train_set/points\")):\n",
    "    mat.append(scipy.io.loadmat(os.path.join(dirname,f)))\n",
    "\n",
    "label_file = pd.read_csv(\"/content/drive/My Drive/学习/学习资料/Semester 3/GR5243--applied data science/project3/train_set/label.csv\")"
   ]
  },
  {
   "cell_type": "code",
   "execution_count": null,
   "metadata": {
    "colab": {},
    "colab_type": "code",
    "id": "l-VarwoGw6tA"
   },
   "outputs": [],
   "source": [
    "pattern = re.compile(r'face*')\n",
    "coords = [x[list(filter(pattern.match, x.keys()))[0]] for x in mat]"
   ]
  },
  {
   "cell_type": "code",
   "execution_count": null,
   "metadata": {
    "colab": {},
    "colab_type": "code",
    "id": "pKVyog7Xw601"
   },
   "outputs": [],
   "source": [
    "feature_mat = np.array([pdist(x) for x in coords])\n",
    "reduced_feature_mat = PCA(n_components=500).fit_transform(feature_mat)\n",
    "label = np.asarray(label_file.loc[:, 'emotion_idx'])\n",
    "#dataset = np.concatenate((feature_mat, label[:,np.newaxis]), axis=1)"
   ]
  },
  {
   "cell_type": "code",
   "execution_count": null,
   "metadata": {
    "colab": {},
    "colab_type": "code",
    "id": "uQrYahwcdH4s"
   },
   "outputs": [],
   "source": [
    "# KNN"
   ]
  },
  {
   "cell_type": "code",
   "execution_count": 29,
   "metadata": {
    "colab": {
     "base_uri": "https://localhost:8080/",
     "height": 102
    },
    "colab_type": "code",
    "id": "vYhQf_SldKSd",
    "outputId": "80e60a68-d062-45c3-bb29-a7cb1bf011da"
   },
   "outputs": [
    {
     "name": "stdout",
     "output_type": "stream",
     "text": [
      "run for k=10,  with accuracy [0.27559055 0.28656126 0.27254509 0.20766129 0.19144603]\n",
      "run for k=20,  with accuracy [0.3011811  0.31027668 0.26853707 0.20967742 0.19959267]\n",
      "run for k=30,  with accuracy [0.29330709 0.31225296 0.2745491  0.23185484 0.20773931]\n",
      "run for k=40,  with accuracy [0.28149606 0.32411067 0.28456914 0.23790323 0.24032587]\n",
      "run for k=50,  with accuracy [0.30905512 0.29644269 0.27655311 0.22177419 0.20977597]\n"
     ]
    }
   ],
   "source": [
    "x = list(range(10,51,10))\n",
    "y = []\n",
    "for k in range(10,51,10):\n",
    "    cvs = cross_validate(KNeighborsClassifier(k), feature_mat, label, cv=5, scoring='accuracy')\n",
    "    print('run for k={}, '.format(k),'with accuracy {}'.format(cvs['test_score']))\n",
    "    y.append(np.mean(cvs['test_score']))"
   ]
  },
  {
   "cell_type": "code",
   "execution_count": 30,
   "metadata": {
    "colab": {
     "base_uri": "https://localhost:8080/",
     "height": 286
    },
    "colab_type": "code",
    "id": "BVkCD-T5h923",
    "outputId": "238ec4a6-2892-4475-92ca-7595c11db3b0"
   },
   "outputs": [
    {
     "data": {
      "text/plain": [
       "[<matplotlib.lines.Line2D at 0x7fb7474f1b00>]"
      ]
     },
     "execution_count": 30,
     "metadata": {
      "tags": []
     },
     "output_type": "execute_result"
    },
    {
     "data": {
      "image/png": "[encoded data removed]",
      "text/plain": [
       "<Figure size 432x288 with 1 Axes>"
      ]
     },
     "metadata": {
      "tags": []
     },
     "output_type": "display_data"
    }
   ],
   "source": [
    "plt.plot(x, y)"
   ]
  },
  {
   "cell_type": "code",
   "execution_count": null,
   "metadata": {
    "colab": {},
    "colab_type": "code",
    "id": "AW8Z9G6KiGJw"
   },
   "outputs": [],
   "source": [
    "# Random Forest"
   ]
  },
  {
   "cell_type": "code",
   "execution_count": 27,
   "metadata": {
    "colab": {
     "base_uri": "https://localhost:8080/",
     "height": 102
    },
    "colab_type": "code",
    "id": "ufnjVhvziGNs",
    "outputId": "38facd16-9825-40ec-89b8-c1ad4d5db686"
   },
   "outputs": [
    {
     "name": "stdout",
     "output_type": "stream",
     "text": [
      "run for k=10,  with accuracy [0.36614173 0.39525692 0.35671343 0.21169355 0.20773931]\n",
      "run for k=20,  with accuracy [0.40944882 0.40711462 0.36472946 0.23790323 0.25458248]\n",
      "run for k=30,  with accuracy [0.41535433 0.45454545 0.39478958 0.29032258 0.24236253]\n",
      "run for k=40,  with accuracy [0.41338583 0.46442688 0.39078156 0.28024194 0.27494908]\n",
      "run for k=50,  with accuracy [0.44291339 0.44268775 0.40480962 0.27620968 0.29735234]\n"
     ]
    }
   ],
   "source": [
    "x = list(range(10,51,10))\n",
    "y = []\n",
    "for k in range(10,51,10):\n",
    "    cvs = cross_validate(RandomForestClassifier(k), feature_mat, label, cv=5, scoring='accuracy')\n",
    "    print('run for k={}, '.format(k),'with accuracy {}'.format(cvs['test_score']))\n",
    "    y.append(np.mean(cvs['test_score']))"
   ]
  },
  {
   "cell_type": "code",
   "execution_count": 28,
   "metadata": {
    "colab": {
     "base_uri": "https://localhost:8080/",
     "height": 282
    },
    "colab_type": "code",
    "id": "N2_Pk7tgiGR1",
    "outputId": "b03896b6-3796-4dca-db3e-461b2e34270d"
   },
   "outputs": [
    {
     "data": {
      "text/plain": [
       "[<matplotlib.lines.Line2D at 0x7fb747512588>]"
      ]
     },
     "execution_count": 28,
     "metadata": {
      "tags": []
     },
     "output_type": "execute_result"
    },
    {
     "data": {
      "image/png": "[encoded data removed]",
      "text/plain": [
       "<Figure size 432x288 with 1 Axes>"
      ]
     },
     "metadata": {
      "tags": []
     },
     "output_type": "display_data"
    }
   ],
   "source": [
    "plt.plot(x, y)"
   ]
  },
  {
   "cell_type": "code",
   "execution_count": null,
   "metadata": {
    "colab": {},
    "colab_type": "code",
    "id": "96JzuI8IfLun"
   },
   "outputs": [],
   "source": [
    "# GBM"
   ]
  },
  {
   "cell_type": "code",
   "execution_count": null,
   "metadata": {},
   "outputs": [],
   "source": [
    "x = list(range(40,101,10))\n",
    "y_gbm = []\n",
    "for k in range(40,110,10):\n",
    "    cvs = cross_validate(GradientBoostingClassifier(n_estimators=k,validation_fraction=0.2,\n",
    "                                               n_iter_no_change=5, tol=0.01), feature_mat, label, cv=3, scoring='accuracy')\n",
    "    print('run for n_estimators={}, '.format(k),'with accuracy {}'.format(cvs['test_score']))\n",
    "    y_gbm.append(np.mean(cvs['test_score']))"
   ]
  },
  {
   "cell_type": "code",
   "execution_count": null,
   "metadata": {},
   "outputs": [],
   "source": [
    "x = list(range(40,101,10))\n",
    "n40=[0.36741974,0.36614646,0.18765133]\n",
    "n50=[0.36385256,0.34453782,0.19491525]\n",
    "n60=[0.40071344,0.36854742,0.2094431]\n",
    "n70=[0.38168847,0.36734694,0.21186441]\n",
    "n80=[0.38168847,0.37454982,0.19854722]\n",
    "n90=[0.40071344,0.35054022,0.21912833]\n",
    "n100=[0.40665874,0.35894358,0.18644068]\n",
    "y=[np.mean(n40),np.mean(n50),np.mean(n60),np.mean(n70),np.mean(n80),np.mean(n90),np.mean(n100)]\n",
    "plt.plot(x,y)"
   ]
  },
  {
   "cell_type": "code",
   "execution_count": null,
   "metadata": {},
   "outputs": [],
   "source": [
    "np.mean(n60)"
   ]
  },
  {
   "cell_type": "code",
   "execution_count": 13,
   "metadata": {
    "colab": {
     "base_uri": "https://localhost:8080/",
     "height": 68
    },
    "colab_type": "code",
    "id": "m944lESVw63b",
    "outputId": "81252122-7519-472f-b960-1b2f51ec34b0"
   },
   "outputs": [
    {
     "name": "stdout",
     "output_type": "stream",
     "text": [
      "run for n_estimators=80,  with accuracy [0.38168847 0.37454982 0.19854722]\n",
      "run for n_estimators=90,  with accuracy [0.40071344 0.35054022 0.21912833]\n",
      "run for n_estimators=100,  with accuracy [0.40665874 0.35894358 0.18644068]\n"
     ]
    }
   ],
   "source": [
    "x = list(range(10,51,10))\n",
    "y_gbm = []\n",
    "for k in range(60,130,10):\n",
    "    cvs = cross_validate(GradientBoostingClassifier(n_estimators=k,validation_fraction=0.2,\n",
    "                                               n_iter_no_change=5, tol=0.01), feature_mat, label, cv=3, scoring='accuracy')\n",
    "    print('run for n_estimators={}, '.format(k),'with accuracy {}'.format(cvs['test_score']))\n",
    "    y_gbm.append(np.mean(cvs['test_score']))"
   ]
  },
  {
   "cell_type": "code",
   "execution_count": null,
   "metadata": {
    "colab": {
     "base_uri": "https://localhost:8080/",
     "height": 51
    },
    "colab_type": "code",
    "id": "fFkKEcoj7avp",
    "outputId": "7e63cbd5-f175-4099-fe55-b4b42048abfb"
   },
   "outputs": [
    {
     "name": "stdout",
     "output_type": "stream",
     "text": [
      "run for n_estimators=60,  with accuracy [0.40071344 0.36854742 0.2094431 ]\n",
      "run for n_estimators=70,  with accuracy [0.38168847 0.36734694 0.21186441]\n"
     ]
    }
   ],
   "source": [
    "x = list(range(60,101,10))\n",
    "y_gbm = []\n",
    "for k in range(60,130,10):\n",
    "    cvs = cross_validate(GradientBoostingClassifier(n_estimators=k,validation_fraction=0.2,\n",
    "                                               n_iter_no_change=5, tol=0.01), feature_mat, label, cv=3, scoring='accuracy')\n",
    "    print('run for n_estimators={}, '.format(k),'with accuracy {}'.format(cvs['test_score']))\n",
    "    y_gbm.append(np.mean(cvs['test_score']))"
   ]
  },
  {
   "cell_type": "code",
   "execution_count": 32,
   "metadata": {
    "colab": {
     "base_uri": "https://localhost:8080/",
     "height": 51
    },
    "colab_type": "code",
    "id": "bf4PzhLwwbdP",
    "outputId": "f3a7cb4d-5255-4f6a-fa14-3dbb5fcb39ab"
   },
   "outputs": [
    {
     "name": "stdout",
     "output_type": "stream",
     "text": [
      "run for n_estimators=40,  with accuracy [0.36741974 0.36614646 0.18765133]\n",
      "run for n_estimators=50,  with accuracy [0.36385256 0.34453782 0.19491525]\n"
     ]
    }
   ],
   "source": [
    "x = list(range(10,51,10))\n",
    "y_gbm = []\n",
    "for k in range(40,60,10):\n",
    "    cvs = cross_validate(GradientBoostingClassifier(n_estimators=k,validation_fraction=0.2,\n",
    "                                               n_iter_no_change=5, tol=0.01), feature_mat, label, cv=3, scoring='accuracy')\n",
    "    print('run for n_estimators={}, '.format(k),'with accuracy {}'.format(cvs['test_score']))\n",
    "    y_gbm.append(np.mean(cvs['test_score']))"
   ]
  },
  {
   "cell_type": "code",
   "execution_count": 33,
   "metadata": {
    "colab": {
     "base_uri": "https://localhost:8080/",
     "height": 282
    },
    "colab_type": "code",
    "id": "WVrpKVjUHwS5",
    "outputId": "053adc6c-69de-4a7c-9638-066cd5028524"
   },
   "outputs": [
    {
     "data": {
      "text/plain": [
       "[<matplotlib.lines.Line2D at 0x7fb747431ba8>]"
      ]
     },
     "execution_count": 33,
     "metadata": {
      "tags": []
     },
     "output_type": "execute_result"
    },
    {
     "data": {
      "image/png": "[encoded data removed]",
      "text/plain": [
       "<Figure size 432x288 with 1 Axes>"
      ]
     },
     "metadata": {
      "tags": []
     },
     "output_type": "display_data"
    }
   ],
   "source": [
    "x = list(range(40,101,10))\n",
    "n40=[0.36741974,0.36614646,0.18765133]\n",
    "n50=[0.36385256,0.34453782,0.19491525]\n",
    "n60=[0.40071344,0.36854742,0.2094431]\n",
    "n70=[0.38168847,0.36734694,0.21186441]\n",
    "n80=[0.38168847,0.37454982,0.19854722]\n",
    "n90=[0.40071344,0.35054022,0.21912833]\n",
    "n100=[0.40665874,0.35894358,0.18644068]\n",
    "y=[np.mean(n40),np.mean(n50),np.mean(n60),np.mean(n70),np.mean(n80),np.mean(n90),np.mean(n100)]\n",
    "plt.plot(x,y)"
   ]
  },
  {
   "cell_type": "code",
   "execution_count": 34,
   "metadata": {
    "colab": {
     "base_uri": "https://localhost:8080/",
     "height": 34
    },
    "colab_type": "code",
    "id": "3v19cpAlIeKj",
    "outputId": "cd0c4fec-4a44-43b3-83f1-3bce8f0e71dc"
   },
   "outputs": [
    {
     "data": {
      "text/plain": [
       "0.3262346533333333"
      ]
     },
     "execution_count": 34,
     "metadata": {
      "tags": []
     },
     "output_type": "execute_result"
    }
   ],
   "source": [
    "np.mean(n60)"
   ]
  }
 ],
 "metadata": {
  "accelerator": "GPU",
  "colab": {
   "collapsed_sections": [],
   "name": "baseline_GBM.ipynb",
   "provenance": []
  },
  "kernelspec": {
   "display_name": "Python 3",
   "language": "python",
   "name": "python3"
  },
  "language_info": {
   "codemirror_mode": {
    "name": "ipython",
    "version": 3
   },
   "file_extension": ".py",
   "mimetype": "text/x-python",
   "name": "python",
   "nbconvert_exporter": "python",
   "pygments_lexer": "ipython3",
   "version": "3.7.3"
  }
 },
 "nbformat": 4,
 "nbformat_minor": 4
}
